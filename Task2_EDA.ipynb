{
 "cells": [
  {
   "cell_type": "markdown",
   "id": "f3d218fc",
   "metadata": {},
   "source": [
    "# 🚢 Task 2: Titanic Dataset Analysis"
   ]
  },
  {
   "cell_type": "markdown",
   "id": "fa2e6ece",
   "metadata": {},
   "source": [
    "#### 📥 Importing Libraries"
   ]
  },
  {
   "cell_type": "code",
   "execution_count": 3,
   "id": "8d3cbb0b",
   "metadata": {},
   "outputs": [],
   "source": [
    "import pandas as pd\n",
    "import seaborn as sns\n",
    "import matplotlib.pyplot as plt\n",
    "import warnings\n",
    "warnings.filterwarnings('ignore')"
   ]
  },
  {
   "cell_type": "markdown",
   "id": "0ab8dd6f",
   "metadata": {},
   "source": [
    "#### 🚢 Loading the Titanic Dataset "
   ]
  },
  {
   "cell_type": "code",
   "execution_count": 4,
   "id": "37bf77cf",
   "metadata": {},
   "outputs": [],
   "source": [
    "df=sns.load_dataset(\"Titanic\")"
   ]
  },
  {
   "cell_type": "markdown",
   "id": "2922e943",
   "metadata": {},
   "source": [
    "#### 📂 Preview of Dataset (First 5 Rows)"
   ]
  },
  {
   "cell_type": "code",
   "execution_count": 5,
   "id": "8bcd6f1a",
   "metadata": {},
   "outputs": [
    {
     "data": {
      "text/html": [
       "<div>\n",
       "<style scoped>\n",
       "    .dataframe tbody tr th:only-of-type {\n",
       "        vertical-align: middle;\n",
       "    }\n",
       "\n",
       "    .dataframe tbody tr th {\n",
       "        vertical-align: top;\n",
       "    }\n",
       "\n",
       "    .dataframe thead th {\n",
       "        text-align: right;\n",
       "    }\n",
       "</style>\n",
       "<table border=\"1\" class=\"dataframe\">\n",
       "  <thead>\n",
       "    <tr style=\"text-align: right;\">\n",
       "      <th></th>\n",
       "      <th>survived</th>\n",
       "      <th>pclass</th>\n",
       "      <th>sex</th>\n",
       "      <th>age</th>\n",
       "      <th>sibsp</th>\n",
       "      <th>parch</th>\n",
       "      <th>fare</th>\n",
       "      <th>embarked</th>\n",
       "      <th>class</th>\n",
       "      <th>who</th>\n",
       "      <th>adult_male</th>\n",
       "      <th>deck</th>\n",
       "      <th>embark_town</th>\n",
       "      <th>alive</th>\n",
       "      <th>alone</th>\n",
       "    </tr>\n",
       "  </thead>\n",
       "  <tbody>\n",
       "    <tr>\n",
       "      <th>0</th>\n",
       "      <td>0</td>\n",
       "      <td>3</td>\n",
       "      <td>male</td>\n",
       "      <td>22.0</td>\n",
       "      <td>1</td>\n",
       "      <td>0</td>\n",
       "      <td>7.2500</td>\n",
       "      <td>S</td>\n",
       "      <td>Third</td>\n",
       "      <td>man</td>\n",
       "      <td>True</td>\n",
       "      <td>NaN</td>\n",
       "      <td>Southampton</td>\n",
       "      <td>no</td>\n",
       "      <td>False</td>\n",
       "    </tr>\n",
       "    <tr>\n",
       "      <th>1</th>\n",
       "      <td>1</td>\n",
       "      <td>1</td>\n",
       "      <td>female</td>\n",
       "      <td>38.0</td>\n",
       "      <td>1</td>\n",
       "      <td>0</td>\n",
       "      <td>71.2833</td>\n",
       "      <td>C</td>\n",
       "      <td>First</td>\n",
       "      <td>woman</td>\n",
       "      <td>False</td>\n",
       "      <td>C</td>\n",
       "      <td>Cherbourg</td>\n",
       "      <td>yes</td>\n",
       "      <td>False</td>\n",
       "    </tr>\n",
       "    <tr>\n",
       "      <th>2</th>\n",
       "      <td>1</td>\n",
       "      <td>3</td>\n",
       "      <td>female</td>\n",
       "      <td>26.0</td>\n",
       "      <td>0</td>\n",
       "      <td>0</td>\n",
       "      <td>7.9250</td>\n",
       "      <td>S</td>\n",
       "      <td>Third</td>\n",
       "      <td>woman</td>\n",
       "      <td>False</td>\n",
       "      <td>NaN</td>\n",
       "      <td>Southampton</td>\n",
       "      <td>yes</td>\n",
       "      <td>True</td>\n",
       "    </tr>\n",
       "    <tr>\n",
       "      <th>3</th>\n",
       "      <td>1</td>\n",
       "      <td>1</td>\n",
       "      <td>female</td>\n",
       "      <td>35.0</td>\n",
       "      <td>1</td>\n",
       "      <td>0</td>\n",
       "      <td>53.1000</td>\n",
       "      <td>S</td>\n",
       "      <td>First</td>\n",
       "      <td>woman</td>\n",
       "      <td>False</td>\n",
       "      <td>C</td>\n",
       "      <td>Southampton</td>\n",
       "      <td>yes</td>\n",
       "      <td>False</td>\n",
       "    </tr>\n",
       "    <tr>\n",
       "      <th>4</th>\n",
       "      <td>0</td>\n",
       "      <td>3</td>\n",
       "      <td>male</td>\n",
       "      <td>35.0</td>\n",
       "      <td>0</td>\n",
       "      <td>0</td>\n",
       "      <td>8.0500</td>\n",
       "      <td>S</td>\n",
       "      <td>Third</td>\n",
       "      <td>man</td>\n",
       "      <td>True</td>\n",
       "      <td>NaN</td>\n",
       "      <td>Southampton</td>\n",
       "      <td>no</td>\n",
       "      <td>True</td>\n",
       "    </tr>\n",
       "  </tbody>\n",
       "</table>\n",
       "</div>"
      ],
      "text/plain": [
       "   survived  pclass     sex   age  sibsp  parch     fare embarked  class  \\\n",
       "0         0       3    male  22.0      1      0   7.2500        S  Third   \n",
       "1         1       1  female  38.0      1      0  71.2833        C  First   \n",
       "2         1       3  female  26.0      0      0   7.9250        S  Third   \n",
       "3         1       1  female  35.0      1      0  53.1000        S  First   \n",
       "4         0       3    male  35.0      0      0   8.0500        S  Third   \n",
       "\n",
       "     who  adult_male deck  embark_town alive  alone  \n",
       "0    man        True  NaN  Southampton    no  False  \n",
       "1  woman       False    C    Cherbourg   yes  False  \n",
       "2  woman       False  NaN  Southampton   yes   True  \n",
       "3  woman       False    C  Southampton   yes  False  \n",
       "4    man        True  NaN  Southampton    no   True  "
      ]
     },
     "execution_count": 5,
     "metadata": {},
     "output_type": "execute_result"
    }
   ],
   "source": [
    "df.head()"
   ]
  },
  {
   "cell_type": "markdown",
   "id": "d28a69dd",
   "metadata": {},
   "source": [
    "#### 📊 Displaying Information of Dataset"
   ]
  },
  {
   "cell_type": "code",
   "execution_count": 6,
   "id": "e8013c2f",
   "metadata": {},
   "outputs": [
    {
     "name": "stdout",
     "output_type": "stream",
     "text": [
      "<class 'pandas.core.frame.DataFrame'>\n",
      "RangeIndex: 891 entries, 0 to 890\n",
      "Data columns (total 15 columns):\n",
      " #   Column       Non-Null Count  Dtype  \n",
      "---  ------       --------------  -----  \n",
      " 0   survived     891 non-null    int64  \n",
      " 1   pclass       891 non-null    int64  \n",
      " 2   sex          891 non-null    object \n",
      " 3   age          714 non-null    float64\n",
      " 4   sibsp        891 non-null    int64  \n",
      " 5   parch        891 non-null    int64  \n",
      " 6   fare         891 non-null    float64\n",
      " 7   embarked     889 non-null    object \n",
      " 8   class        891 non-null    object \n",
      " 9   who          891 non-null    object \n",
      " 10  adult_male   891 non-null    bool   \n",
      " 11  deck         203 non-null    object \n",
      " 12  embark_town  889 non-null    object \n",
      " 13  alive        891 non-null    object \n",
      " 14  alone        891 non-null    bool   \n",
      "dtypes: bool(2), float64(2), int64(4), object(7)\n",
      "memory usage: 92.4+ KB\n"
     ]
    }
   ],
   "source": [
    "df.info()"
   ]
  },
  {
   "cell_type": "markdown",
   "id": "fcb6d1e4",
   "metadata": {},
   "source": [
    ">**The dataset has 891 passengers with 15 variables on demographics, travel, and survival. Some columns have missing values, especially age, embarked, and deck (highly sparse).**"
   ]
  },
  {
   "cell_type": "markdown",
   "id": "ee95b549",
   "metadata": {},
   "source": [
    "#### 🔍 Check for Missing Values of Dataset"
   ]
  },
  {
   "cell_type": "code",
   "execution_count": 7,
   "id": "537af1cb",
   "metadata": {},
   "outputs": [
    {
     "data": {
      "text/plain": [
       "survived        0.000000\n",
       "pclass          0.000000\n",
       "sex             0.000000\n",
       "age            19.865320\n",
       "sibsp           0.000000\n",
       "parch           0.000000\n",
       "fare            0.000000\n",
       "embarked        0.224467\n",
       "class           0.000000\n",
       "who             0.000000\n",
       "adult_male      0.000000\n",
       "deck           77.216611\n",
       "embark_town     0.224467\n",
       "alive           0.000000\n",
       "alone           0.000000\n",
       "dtype: float64"
      ]
     },
     "execution_count": 7,
     "metadata": {},
     "output_type": "execute_result"
    }
   ],
   "source": [
    "df.isnull().mean()*100"
   ]
  },
  {
   "cell_type": "markdown",
   "id": "86e6ccb8",
   "metadata": {},
   "source": [
    ">**Most columns have complete data. `Age` has `20%` missing values, `embarked` and `embark_town` have very few missing entries `0.2%`, and `deck` has `77.2%` missing values, so it will be dropped from the analysis.**"
   ]
  },
  {
   "cell_type": "markdown",
   "id": "056811be",
   "metadata": {},
   "source": [
    "#### 🔢 Passenger Class Distribution "
   ]
  },
  {
   "cell_type": "code",
   "execution_count": 10,
   "id": "5ddb344e",
   "metadata": {},
   "outputs": [
    {
     "name": "stdout",
     "output_type": "stream",
     "text": [
      "The Value count of pclass: pclass\n",
      "3    491\n",
      "1    216\n",
      "2    184\n",
      "Name: count, dtype: int64,\n",
      "\n",
      "Value counts of Class: class\n",
      "Third     491\n",
      "First     216\n",
      "Second    184\n",
      "Name: count, dtype: int64\n"
     ]
    }
   ],
   "source": [
    "print(f'The Value count of pclass: {df[\"pclass\"].value_counts()},\\n\\nValue counts of Class: {df[\"class\"].value_counts()}')"
   ]
  },
  {
   "cell_type": "markdown",
   "id": "b37a5da6",
   "metadata": {},
   "source": [
    ">**pclass and class convey the same information. To avoid redundancy, pclass will be dropped and class retained for analysis.**"
   ]
  },
  {
   "cell_type": "markdown",
   "id": "8b51b577",
   "metadata": {},
   "source": [
    "#### 🔢 Passenger Embarked Distribution "
   ]
  },
  {
   "cell_type": "code",
   "execution_count": 11,
   "id": "501d9ebf",
   "metadata": {},
   "outputs": [
    {
     "name": "stdout",
     "output_type": "stream",
     "text": [
      "The Value count of embarked: embarked\n",
      "S    644\n",
      "C    168\n",
      "Q     77\n",
      "Name: count, dtype: int64,\n",
      "\n",
      "Value counts of embarked_town: embark_town\n",
      "Southampton    644\n",
      "Cherbourg      168\n",
      "Queenstown      77\n",
      "Name: count, dtype: int64\n"
     ]
    }
   ],
   "source": [
    "print(f'The Value count of embarked: {df[\"embarked\"].value_counts()},\\n\\nValue counts of embarked_town: {df[\"embark_town\"].value_counts()}')"
   ]
  },
  {
   "cell_type": "markdown",
   "id": "e97f91ec",
   "metadata": {},
   "source": [
    ">**Since `embarked` and `embark_town` carry the same information, I will drop `embarked` and keep `embark_town` for better clarity and readability in the analysis.**"
   ]
  },
  {
   "cell_type": "markdown",
   "id": "3a70bd95",
   "metadata": {},
   "source": [
    "#### 🔢 Passenger Survival Distribution "
   ]
  },
  {
   "cell_type": "code",
   "execution_count": 12,
   "id": "67af2f9b",
   "metadata": {},
   "outputs": [
    {
     "name": "stdout",
     "output_type": "stream",
     "text": [
      "The Value count of alive: alive\n",
      "no     549\n",
      "yes    342\n",
      "Name: count, dtype: int64,\n",
      "\n",
      "Value counts of survived: survived\n",
      "0    549\n",
      "1    342\n",
      "Name: count, dtype: int64\n"
     ]
    }
   ],
   "source": [
    "print(f'The Value count of alive: {df[\"alive\"].value_counts()},\\n\\nValue counts of survived: {df[\"survived\"].value_counts()}')"
   ]
  },
  {
   "cell_type": "markdown",
   "id": "d5c4476d",
   "metadata": {},
   "source": [
    ">**Since `alive` and `survived` contain the same information, I will drop `alive` and keep `survived` as the primary outcome variable for analysis.**"
   ]
  },
  {
   "cell_type": "markdown",
   "id": "74a254d7",
   "metadata": {},
   "source": [
    "#### ✂️ Dropping redundant columns "
   ]
  },
  {
   "cell_type": "code",
   "execution_count": 13,
   "id": "d2201495",
   "metadata": {},
   "outputs": [],
   "source": [
    "df.drop(['deck','embarked','pclass','alive'],axis=1,inplace=True)"
   ]
  },
  {
   "cell_type": "markdown",
   "id": "c7751e3a",
   "metadata": {},
   "source": [
    "#### 🔄 Converting Survival Column "
   ]
  },
  {
   "cell_type": "code",
   "execution_count": 14,
   "id": "373a9797",
   "metadata": {},
   "outputs": [],
   "source": [
    "df['survived'] = df['survived'].replace({0: 'No', 1: 'Yes'})"
   ]
  },
  {
   "cell_type": "markdown",
   "id": "c57707dc",
   "metadata": {},
   "source": [
    "#### 🔄 Converting Alone Column "
   ]
  },
  {
   "cell_type": "code",
   "execution_count": 15,
   "id": "7cc6d18d",
   "metadata": {},
   "outputs": [],
   "source": [
    "df['alone'] = df['alone'].replace({True: 'Yes', False: 'No'})"
   ]
  },
  {
   "cell_type": "markdown",
   "id": "506868f2",
   "metadata": {},
   "source": [
    "#### 📊 Calculating Median and Mode "
   ]
  },
  {
   "cell_type": "code",
   "execution_count": 16,
   "id": "1ef4a32e",
   "metadata": {},
   "outputs": [
    {
     "name": "stdout",
     "output_type": "stream",
     "text": [
      "The median Values of Age is: 28.0 \n",
      "The Mode value Embark_town is:Southampton \n"
     ]
    }
   ],
   "source": [
    "print(f'The median Values of Age is: {df[\"age\"].median()} \\nThe Mode value Embark_town is:{df[\"embark_town\"].mode()[0]} ')"
   ]
  },
  {
   "cell_type": "markdown",
   "id": "d5f1ae6a",
   "metadata": {},
   "source": [
    ">**We calculate the median age of passengers and the mode of embark_town. These values are useful for imputing missing data in the respective columns.**"
   ]
  },
  {
   "cell_type": "markdown",
   "id": "51b3c0f8",
   "metadata": {},
   "source": [
    "#### 🧹 Imputing Missing Age Values "
   ]
  },
  {
   "cell_type": "code",
   "execution_count": 17,
   "id": "ae64c268",
   "metadata": {},
   "outputs": [],
   "source": [
    "df['age'].fillna(df['age'].median(),inplace=True)"
   ]
  },
  {
   "cell_type": "markdown",
   "id": "0dcfa140",
   "metadata": {},
   "source": [
    "#### 🧹 Imputing Missing Embarked Town Values "
   ]
  },
  {
   "cell_type": "code",
   "execution_count": 18,
   "id": "40a6ed9a",
   "metadata": {},
   "outputs": [],
   "source": [
    "df['embark_town'].fillna(df['embark_town'].mode(),inplace=True)"
   ]
  },
  {
   "cell_type": "markdown",
   "id": "df3100c9",
   "metadata": {},
   "source": [
    "#### 👥 Gender Distribution  "
   ]
  },
  {
   "cell_type": "code",
   "execution_count": 19,
   "id": "ad0ef29f",
   "metadata": {},
   "outputs": [
    {
     "data": {
      "text/plain": [
       "sex\n",
       "male      577\n",
       "female    314\n",
       "Name: count, dtype: int64"
      ]
     },
     "execution_count": 19,
     "metadata": {},
     "output_type": "execute_result"
    }
   ],
   "source": [
    "df['sex'].value_counts()"
   ]
  },
  {
   "cell_type": "markdown",
   "id": "cae491cc",
   "metadata": {},
   "source": [
    ">**The dataset contains 577 male passengers and 314 female passengers, indicating that males make up the majority of the sample.**"
   ]
  },
  {
   "cell_type": "markdown",
   "id": "a9c665fe",
   "metadata": {},
   "source": [
    "#### 👥 Class Distribution  "
   ]
  },
  {
   "cell_type": "code",
   "execution_count": 20,
   "id": "598e2180",
   "metadata": {},
   "outputs": [
    {
     "data": {
      "text/plain": [
       "class\n",
       "Third     491\n",
       "First     216\n",
       "Second    184\n",
       "Name: count, dtype: int64"
      ]
     },
     "execution_count": 20,
     "metadata": {},
     "output_type": "execute_result"
    }
   ],
   "source": [
    "df['class'].value_counts()"
   ]
  },
  {
   "cell_type": "markdown",
   "id": "2d9cda33",
   "metadata": {},
   "source": [
    ">**The dataset shows that most passengers traveled in Third Class (491), followed by First Class (216) and Second Class (184).**"
   ]
  },
  {
   "cell_type": "markdown",
   "id": "f7f7a22f",
   "metadata": {},
   "source": [
    "#### 🙋🏻‍♂️ Survival Distribution  "
   ]
  },
  {
   "cell_type": "code",
   "execution_count": 21,
   "id": "0fda5894",
   "metadata": {},
   "outputs": [
    {
     "data": {
      "text/plain": [
       "survived\n",
       "No     549\n",
       "Yes    342\n",
       "Name: count, dtype: int64"
      ]
     },
     "execution_count": 21,
     "metadata": {},
     "output_type": "execute_result"
    }
   ],
   "source": [
    "df['survived'].value_counts()"
   ]
  },
  {
   "cell_type": "markdown",
   "id": "f5b5114e",
   "metadata": {},
   "source": [
    ">**Out of all passengers, 549 did not survive while 342 survived, showing that the majority of passengers did not survive.**"
   ]
  },
  {
   "cell_type": "markdown",
   "id": "d85d0e7a",
   "metadata": {},
   "source": [
    "##### 🧍🏻 ALone Distribution  "
   ]
  },
  {
   "cell_type": "code",
   "execution_count": 22,
   "id": "58757027",
   "metadata": {},
   "outputs": [
    {
     "data": {
      "text/plain": [
       "alone\n",
       "Yes    537\n",
       "No     354\n",
       "Name: count, dtype: int64"
      ]
     },
     "execution_count": 22,
     "metadata": {},
     "output_type": "execute_result"
    }
   ],
   "source": [
    "df['alone'].value_counts()"
   ]
  },
  {
   "cell_type": "markdown",
   "id": "a79ee5ea",
   "metadata": {},
   "source": [
    ">**The dataset shows that 537 passengers traveled alone, while 354 passengers traveled with family or companions.**"
   ]
  },
  {
   "cell_type": "markdown",
   "id": "e6398077",
   "metadata": {},
   "source": [
    "#### 📋 Summary Statistics of Numerical Columns"
   ]
  },
  {
   "cell_type": "code",
   "execution_count": 23,
   "id": "3dc38cf3",
   "metadata": {},
   "outputs": [
    {
     "data": {
      "text/html": [
       "<div>\n",
       "<style scoped>\n",
       "    .dataframe tbody tr th:only-of-type {\n",
       "        vertical-align: middle;\n",
       "    }\n",
       "\n",
       "    .dataframe tbody tr th {\n",
       "        vertical-align: top;\n",
       "    }\n",
       "\n",
       "    .dataframe thead th {\n",
       "        text-align: right;\n",
       "    }\n",
       "</style>\n",
       "<table border=\"1\" class=\"dataframe\">\n",
       "  <thead>\n",
       "    <tr style=\"text-align: right;\">\n",
       "      <th></th>\n",
       "      <th>age</th>\n",
       "      <th>sibsp</th>\n",
       "      <th>parch</th>\n",
       "      <th>fare</th>\n",
       "    </tr>\n",
       "  </thead>\n",
       "  <tbody>\n",
       "    <tr>\n",
       "      <th>count</th>\n",
       "      <td>891.000000</td>\n",
       "      <td>891.000000</td>\n",
       "      <td>891.000000</td>\n",
       "      <td>891.000000</td>\n",
       "    </tr>\n",
       "    <tr>\n",
       "      <th>mean</th>\n",
       "      <td>29.361582</td>\n",
       "      <td>0.523008</td>\n",
       "      <td>0.381594</td>\n",
       "      <td>32.204208</td>\n",
       "    </tr>\n",
       "    <tr>\n",
       "      <th>std</th>\n",
       "      <td>13.019697</td>\n",
       "      <td>1.102743</td>\n",
       "      <td>0.806057</td>\n",
       "      <td>49.693429</td>\n",
       "    </tr>\n",
       "    <tr>\n",
       "      <th>min</th>\n",
       "      <td>0.420000</td>\n",
       "      <td>0.000000</td>\n",
       "      <td>0.000000</td>\n",
       "      <td>0.000000</td>\n",
       "    </tr>\n",
       "    <tr>\n",
       "      <th>25%</th>\n",
       "      <td>22.000000</td>\n",
       "      <td>0.000000</td>\n",
       "      <td>0.000000</td>\n",
       "      <td>7.910400</td>\n",
       "    </tr>\n",
       "    <tr>\n",
       "      <th>50%</th>\n",
       "      <td>28.000000</td>\n",
       "      <td>0.000000</td>\n",
       "      <td>0.000000</td>\n",
       "      <td>14.454200</td>\n",
       "    </tr>\n",
       "    <tr>\n",
       "      <th>75%</th>\n",
       "      <td>35.000000</td>\n",
       "      <td>1.000000</td>\n",
       "      <td>0.000000</td>\n",
       "      <td>31.000000</td>\n",
       "    </tr>\n",
       "    <tr>\n",
       "      <th>max</th>\n",
       "      <td>80.000000</td>\n",
       "      <td>8.000000</td>\n",
       "      <td>6.000000</td>\n",
       "      <td>512.329200</td>\n",
       "    </tr>\n",
       "  </tbody>\n",
       "</table>\n",
       "</div>"
      ],
      "text/plain": [
       "              age       sibsp       parch        fare\n",
       "count  891.000000  891.000000  891.000000  891.000000\n",
       "mean    29.361582    0.523008    0.381594   32.204208\n",
       "std     13.019697    1.102743    0.806057   49.693429\n",
       "min      0.420000    0.000000    0.000000    0.000000\n",
       "25%     22.000000    0.000000    0.000000    7.910400\n",
       "50%     28.000000    0.000000    0.000000   14.454200\n",
       "75%     35.000000    1.000000    0.000000   31.000000\n",
       "max     80.000000    8.000000    6.000000  512.329200"
      ]
     },
     "execution_count": 23,
     "metadata": {},
     "output_type": "execute_result"
    }
   ],
   "source": [
    "df.describe()"
   ]
  },
  {
   "cell_type": "markdown",
   "id": "82b875ee",
   "metadata": {},
   "source": [
    "**Interpretation of that descriptive statistics table:**\n",
    "* **Age**: Age: Range `0.42–80` years, average `29`, most between `22–35`.\n",
    "* **SibSp (siblings/spouses aboard)**: Mostly 0, maximum 8, average 0.52.\n",
    "* **Parch (parents/children aboard)**: Mostly 0, maximum 6, average 0.38.\n",
    "* **Fare**: Fares varied widely, from `0 to 512.33`, with average of `32.20`. The majority of fares were `below 31`.\n",
    "While outliers retained as true values."
   ]
  },
  {
   "cell_type": "markdown",
   "id": "6fdac023",
   "metadata": {},
   "source": [
    "#### 📊 Counting Survivors by Travel Class"
   ]
  },
  {
   "cell_type": "code",
   "execution_count": 24,
   "id": "69952a65",
   "metadata": {},
   "outputs": [
    {
     "data": {
      "text/plain": [
       "class   survived\n",
       "First   Yes         136\n",
       "        No           80\n",
       "Second  No           97\n",
       "        Yes          87\n",
       "Third   No          372\n",
       "        Yes         119\n",
       "Name: count, dtype: int64"
      ]
     },
     "execution_count": 24,
     "metadata": {},
     "output_type": "execute_result"
    }
   ],
   "source": [
    "df.groupby('class')['survived'].value_counts()"
   ]
  },
  {
   "cell_type": "markdown",
   "id": "326692cd",
   "metadata": {},
   "source": [
    "**The survival distribution varies across classes:**\n",
    "* **First Class**: 136 survived, 80 did not.\n",
    "* **Second Class**: 87 survived, 97 did not.\n",
    "* **Third Class**: 119 survived, 372 did not.   \n",
    "**This shows that survival chances were highest in First Class and lowest in Third Class.**"
   ]
  },
  {
   "cell_type": "markdown",
   "id": "58888fb1",
   "metadata": {},
   "source": [
    "#### 🔄 Plotting Survival Rate by Class"
   ]
  },
  {
   "cell_type": "code",
   "execution_count": 57,
   "id": "068e69fa",
   "metadata": {},
   "outputs": [
    {
     "data": {
      "text/plain": [
       "Text(0.5, 1.0, 'Survival Rate by Class')"
      ]
     },
     "execution_count": 57,
     "metadata": {},
     "output_type": "execute_result"
    },
    {
     "data": {
      "image/png": "[encoded data removed]",
      "text/plain": [
       "<Figure size 640x480 with 1 Axes>"
      ]
     },
     "metadata": {},
     "output_type": "display_data"
    }
   ],
   "source": [
    "df.groupby('class')['survived'].value_counts().plot(kind='pie',autopct='%1.1f%%',colormap='Set3')\n",
    "plt.title('Survival Rate by Class')"
   ]
  },
  {
   "cell_type": "markdown",
   "id": "f3dd260f",
   "metadata": {},
   "source": [
    "#### 📊 Plotting Survival Rate by Class"
   ]
  },
  {
   "cell_type": "code",
   "execution_count": 34,
   "id": "3968b48a",
   "metadata": {},
   "outputs": [
    {
     "data": {
      "text/plain": [
       "array([0, 1, 2, 3, 4, 5])"
      ]
     },
     "execution_count": 34,
     "metadata": {},
     "output_type": "execute_result"
    },
    {
     "data": {
      "image/png": "[encoded data removed]",
      "text/plain": [
       "<Figure size 640x480 with 1 Axes>"
      ]
     },
     "metadata": {},
     "output_type": "display_data"
    }
   ],
   "source": [
    "df.groupby('class')['survived'].value_counts().plot(kind='bar',color=['teal','orange','darkgreen'])\n",
    "plt.title('Survival Rate by Class')\n",
    "plt.xticks(rotation=45)[0]"
   ]
  },
  {
   "cell_type": "markdown",
   "id": "1adb7f36",
   "metadata": {},
   "source": [
    "#### 📊 Counting Survivors by Gender"
   ]
  },
  {
   "cell_type": "code",
   "execution_count": 252,
   "id": "8d978e19",
   "metadata": {},
   "outputs": [
    {
     "data": {
      "text/plain": [
       "sex     survived\n",
       "female  Yes         233\n",
       "        No           81\n",
       "male    No          468\n",
       "        Yes         109\n",
       "Name: count, dtype: int64"
      ]
     },
     "execution_count": 252,
     "metadata": {},
     "output_type": "execute_result"
    }
   ],
   "source": [
    "df.groupby('sex')['survived'].value_counts()"
   ]
  },
  {
   "cell_type": "markdown",
   "id": "fc02d4bb",
   "metadata": {},
   "source": [
    "**The survival distribution differs greatly between genders:**\n",
    "* **Female**: 233 survived, 81 did not.\n",
    "* **Male**: 109 survived, 468 did not.\n",
    "* **This shows that females had a much higher survival rate compared to males.**"
   ]
  },
  {
   "cell_type": "markdown",
   "id": "158c95a0",
   "metadata": {},
   "source": [
    "#### 🔄 Plotting Survival Rate by Gender"
   ]
  },
  {
   "cell_type": "code",
   "execution_count": 339,
   "id": "dc1a5c79",
   "metadata": {},
   "outputs": [
    {
     "data": {
      "text/plain": [
       "Text(0.5, 1.0, 'Survival Rate by Gender')"
      ]
     },
     "execution_count": 339,
     "metadata": {},
     "output_type": "execute_result"
    },
    {
     "data": {
      "image/png": "[encoded data removed]",
      "text/plain": [
       "<Figure size 640x480 with 1 Axes>"
      ]
     },
     "metadata": {},
     "output_type": "display_data"
    }
   ],
   "source": [
    "df.groupby('sex')['survived'].value_counts().plot(kind='pie',autopct='%1.1f%%',colormap='Set2')\n",
    "plt.title('Survival Rate by Gender')"
   ]
  },
  {
   "cell_type": "markdown",
   "id": "398a609a",
   "metadata": {},
   "source": [
    "#### 📊 Counting Gender by Travel Class"
   ]
  },
  {
   "cell_type": "code",
   "execution_count": 341,
   "id": "ee780aed",
   "metadata": {},
   "outputs": [
    {
     "data": {
      "text/plain": [
       "class   sex   \n",
       "First   male      122\n",
       "        female     94\n",
       "Second  male      108\n",
       "        female     76\n",
       "Third   male      347\n",
       "        female    144\n",
       "Name: count, dtype: int64"
      ]
     },
     "execution_count": 341,
     "metadata": {},
     "output_type": "execute_result"
    }
   ],
   "source": [
    "df.groupby('class')['sex'].value_counts()"
   ]
  },
  {
   "cell_type": "markdown",
   "id": "e7bc7f9c",
   "metadata": {},
   "source": [
    "**The dataset shows how gender is distributed across passenger classes:**\n",
    "* **First Class**: 122 males, 94 females\n",
    "* **Second Class**: 108 males, 76 females\n",
    "* **Third Class**: 347 males, 144 females\n",
    "* Overall, males outnumber females in every class, with the largest gender gap observed in Third Class."
   ]
  },
  {
   "cell_type": "markdown",
   "id": "715bcbb2",
   "metadata": {},
   "source": [
    "#### 📊 Plotting Passenger Distribution by Travel Class and Gender"
   ]
  },
  {
   "cell_type": "code",
   "execution_count": 42,
   "id": "5f960524",
   "metadata": {},
   "outputs": [
    {
     "data": {
      "text/plain": [
       "array([0, 1, 2, 3, 4, 5])"
      ]
     },
     "execution_count": 42,
     "metadata": {},
     "output_type": "execute_result"
    },
    {
     "data": {
      "image/png": "[encoded data removed]",
      "text/plain": [
       "<Figure size 640x480 with 1 Axes>"
      ]
     },
     "metadata": {},
     "output_type": "display_data"
    }
   ],
   "source": [
    "df.groupby('class')['sex'].value_counts().plot(kind='bar',color=['teal','orange'])\n",
    "plt.title('Number of Passengers by Travel Class and Gender')\n",
    "plt.xticks(rotation=45)[0]"
   ]
  },
  {
   "cell_type": "markdown",
   "id": "352d9919",
   "metadata": {},
   "source": [
    "#### 📊 Counting Alone Passenger by Travel Class"
   ]
  },
  {
   "cell_type": "code",
   "execution_count": 257,
   "id": "435bd42b",
   "metadata": {},
   "outputs": [
    {
     "data": {
      "text/plain": [
       "class   alone\n",
       "First   Yes      109\n",
       "        No       107\n",
       "Second  Yes      104\n",
       "        No        80\n",
       "Third   Yes      324\n",
       "        No       167\n",
       "Name: count, dtype: int64"
      ]
     },
     "execution_count": 257,
     "metadata": {},
     "output_type": "execute_result"
    }
   ],
   "source": [
    "df.groupby('class')['alone'].value_counts()"
   ]
  },
  {
   "cell_type": "markdown",
   "id": "2bc94bd1",
   "metadata": {},
   "source": [
    "The dataset shows the distribution of passengers traveling alone across classes:\n",
    "\n",
    "* **First Class**: 109 traveled alone, 107 traveled with companions.\n",
    "* **Second Class**: 104 traveled alone, 80 traveled with companions.\n",
    "* **Third Class**: 324 traveled alone, 167 traveled with companions.\n",
    "* This indicates that the majority of passengers in `Third Class` were traveling alone, while `First and Second Class` had a more balanced split."
   ]
  },
  {
   "cell_type": "markdown",
   "id": "b6485cbc",
   "metadata": {},
   "source": [
    "#### 👤 Plotting Solo vs Group Passengers by Travel Class"
   ]
  },
  {
   "cell_type": "code",
   "execution_count": 48,
   "id": "0353cbba",
   "metadata": {},
   "outputs": [
    {
     "data": {
      "text/plain": [
       "array([0, 1, 2, 3, 4, 5])"
      ]
     },
     "execution_count": 48,
     "metadata": {},
     "output_type": "execute_result"
    },
    {
     "data": {
      "image/png": "[encoded data removed]",
      "text/plain": [
       "<Figure size 640x480 with 1 Axes>"
      ]
     },
     "metadata": {},
     "output_type": "display_data"
    }
   ],
   "source": [
    "df.groupby('class')['alone'].value_counts().plot(kind='bar',color=['teal','orange'])\n",
    "plt.title('Passenger Travel Type Distribution by Class')\n",
    "plt.xticks(rotation=45)[0]"
   ]
  },
  {
   "cell_type": "markdown",
   "id": "117a7ffe",
   "metadata": {},
   "source": [
    "#### 📊 Counting Embark Town by Travel Class"
   ]
  },
  {
   "cell_type": "code",
   "execution_count": 272,
   "id": "7df1f7cc",
   "metadata": {},
   "outputs": [
    {
     "data": {
      "text/plain": [
       "class   embark_town\n",
       "First   Southampton    127\n",
       "        Cherbourg       85\n",
       "        Queenstown       2\n",
       "Second  Southampton    164\n",
       "        Cherbourg       17\n",
       "        Queenstown       3\n",
       "Third   Southampton    353\n",
       "        Queenstown      72\n",
       "        Cherbourg       66\n",
       "Name: count, dtype: int64"
      ]
     },
     "execution_count": 272,
     "metadata": {},
     "output_type": "execute_result"
    }
   ],
   "source": [
    "df.groupby('class')['embark_town'].value_counts()"
   ]
  },
  {
   "cell_type": "markdown",
   "id": "bc153329",
   "metadata": {},
   "source": [
    "**The dataset shows how passengers from different embarkation towns were distributed across classes:**\n",
    "\n",
    "* **First Class**: 127 from Southampton, 85 from Cherbourg, 2 from Queenstown.\n",
    "* **Second Class**: 164 from Southampton, 17 from Cherbourg, 3 from Queenstown.\n",
    "* **Third Class**: 353 from Southampton, 72 from Queenstown, 66 from Cherbourg.\n",
    "* `Southampton` was the primary embarkation point for all classes, while `Cherbourg` had more First Class passengers and `Queenstown` contributed mostly Third Class passengers."
   ]
  },
  {
   "cell_type": "markdown",
   "id": "5994e9f3",
   "metadata": {},
   "source": [
    "#### 📊 Plotting Passenger Distribution by Travel Class and Embarked Town"
   ]
  },
  {
   "cell_type": "code",
   "execution_count": 54,
   "id": "5ec94336",
   "metadata": {},
   "outputs": [
    {
     "data": {
      "text/plain": [
       "array([0, 1, 2, 3, 4, 5, 6, 7, 8])"
      ]
     },
     "execution_count": 54,
     "metadata": {},
     "output_type": "execute_result"
    },
    {
     "data": {
      "image/png": "[encoded data removed]",
      "text/plain": [
       "<Figure size 640x480 with 1 Axes>"
      ]
     },
     "metadata": {},
     "output_type": "display_data"
    }
   ],
   "source": [
    "df.groupby('class')['embark_town'].value_counts().plot(kind='bar',color=['orange','teal','darkgreen'])\n",
    "plt.title('Passenger Travel Type Distribution by Class and Embark Town')\n",
    "plt.xticks(rotation=60)[0]"
   ]
  },
  {
   "cell_type": "markdown",
   "id": "5ba43a83",
   "metadata": {},
   "source": [
    "#### 🔄 Plotting the Correlation Heatmap"
   ]
  },
  {
   "cell_type": "code",
   "execution_count": null,
   "id": "5bff5b3f",
   "metadata": {},
   "outputs": [
    {
     "data": {
      "image/png": "[encoded data removed]",
      "text/plain": [
       "<Figure size 800x600 with 2 Axes>"
      ]
     },
     "metadata": {},
     "output_type": "display_data"
    }
   ],
   "source": [
    "plt.figure(figsize=(8,6))\n",
    "sns.heatmap(df.corr(numeric_only=True), annot=True, cmap=\"coolwarm\")\n",
    "plt.title(\"Correlation Heatmap\")\n",
    "plt.show()"
   ]
  },
  {
   "cell_type": "markdown",
   "id": "9754d8d1",
   "metadata": {},
   "source": [
    "**The heatmap shows correlations between numerical variables in the dataset:**\n",
    "\n",
    "* **SibSp & Parch (0.41)**: Moderate positive correlation shows that families often traveled with both siblings/spouses and parents/children.\n",
    "* **Fare & Parch (0.22), Fare & SibSp (0.16)**: Weak positive correlations shows that larger families tended to pay higher fares.\n",
    "* **Age & SibSp (-0.23), Age & Parch (-0.17)**: Weak negative correlations shows that younger passengers were more likely to travel with family.\n",
    "* **Adult_male & Age (0.25)**: Weak positive correlation shows that older passengers were more often adult males.\n",
    "* **Adult_male & Parch (-0.35)**: Moderate negative correlation shows that adult males were less likely to travel with parents/children."
   ]
  },
  {
   "cell_type": "markdown",
   "id": "f1de0ad1",
   "metadata": {},
   "source": [
    "## **Final Report**\n",
    "### 1. Data Overview\n",
    "\n",
    "The dataset contains **891 passenger records** with demographic, travel, and survival information across 15 variables. Data types include numerical, categorical, and boolean values.\n",
    "\n",
    "---\n",
    "\n",
    "### 2. Handling Missing Values\n",
    "\n",
    "* **Age**: \\~19.9% missing values. These were imputed to preserve important information.\n",
    "* **Embarked / Embark\\_town**: \\~0.22% missing values. Kept `embark_town` (town names) for better interpretability. Missing values were imputed.\n",
    "* **Deck**: Over 77% missing values. Dropped due to excessive missingness.\n",
    "\n",
    "---\n",
    "\n",
    "### 3. Removing Redundant Columns\n",
    "\n",
    "To reduce duplication and improve clarity:\n",
    "\n",
    "* Dropped **pclass** (numeric) and kept **class** (categorical).\n",
    "* Dropped **alive** and kept **survived** as the primary outcome variable.\n",
    "* Dropped **embarked** and kept **embark\\_town** for readability.\n",
    "\n",
    "---\n",
    "\n",
    "### 4. Data Distributions and Insights\n",
    "\n",
    "* **Gender**: 577 males, 314 females. Males form the majority of passengers.\n",
    "* **Class**: 491 in Third, 216 in First, 184 in Second. Most traveled in Third Class.\n",
    "* **Survival**: 342 survived, 549 did not. Majority did not survive.\n",
    "* **Traveling Alone**: 537 traveled alone, 354 traveled with companions.\n",
    "\n",
    "---\n",
    "\n",
    "### 5. Descriptive Statistics of Numerical Variables\n",
    "\n",
    "* **Age**: Mean \\~29 years (range 0.42–80). Most passengers aged 22–35.\n",
    "* **SibSp**: Most had no siblings/spouses aboard; max = 8.\n",
    "* **Parch**: Most had no parents/children aboard; max = 6.\n",
    "* **Fare**: Highly variable (0–512). Outliers are present but retained as true values.\n",
    "\n",
    "---\n",
    "\n",
    "### 6. Survival Analysis by Groups\n",
    "\n",
    "* **By Class**:\n",
    "\n",
    "  * First Class: 136 survived, 80 did not.\n",
    "  * Second Class: 87 survived, 97 did not.\n",
    "  * Third Class: 119 survived, 372 did not.\n",
    "    → Survival rate was highest in First Class, lowest in Third Class.\n",
    "    → Represented with **pie chart (percentages)** and **bar chart**.\n",
    "\n",
    "* **By Gender**:\n",
    "\n",
    "  * Female: 233 survived, 81 did not.\n",
    "  * Male: 109 survived, 468 did not.\n",
    "    → Females had a significantly higher survival rate.\n",
    "    → Represented with **pie chart** and **bar chart**.\n",
    "\n",
    "* **By Class & Gender**:\n",
    "\n",
    "  * First: 122 males, 94 females\n",
    "  * Second: 108 males, 76 females\n",
    "  * Third: 347 males, 144 females\n",
    "    → Males outnumbered females across all classes, with the largest gap in Third Class.\n",
    "    → Shown with **bar chart**.\n",
    "\n",
    "* **By Class & Alone**:\n",
    "\n",
    "  * First: 109 alone, 107 not alone\n",
    "  * Second: 104 alone, 80 not alone\n",
    "  * Third: 324 alone, 167 not alone\n",
    "    → Most Third Class passengers traveled alone.\n",
    "    → Shown with **bar chart**.\n",
    "\n",
    "* **By Class & Embarkation Town**:\n",
    "\n",
    "  * First: Southampton (127), Cherbourg (85), Queenstown (2)\n",
    "  * Second: Southampton (164), Cherbourg (17), Queenstown (3)\n",
    "  * Third: Southampton (353), Queenstown (72), Cherbourg (66)\n",
    "    → Southampton was the dominant embarkation point across classes.\n",
    "    → Shown with **bar chart**.\n",
    "\n",
    "---\n",
    "\n",
    "### 7. Correlation Analysis\n",
    "\n",
    "* Strongest relationship: **SibSp and Parch (0.41)** → families often traveled together.\n",
    "* Weak positives: Fare vs. Parch (0.22), Fare vs. SibSp (0.16).\n",
    "* Weak negatives: Age vs. SibSp (-0.23), Age vs. Parch (-0.17).\n",
    "* **Adult\\_male vs. Parch (-0.35)**: Adult males were less likely to travel with children or parents.\n",
    "* Overall, correlations are weak to moderate, indicating that no single variable dominates survival prediction.\n",
    "  → Shown with **correlation heatmap**.\n",
    "\n",
    "---\n",
    "\n",
    "### 8. Conclusion\n",
    "\n",
    "The analysis shows that **class, gender, and family status** significantly influenced survival chances. First Class passengers and females had a much higher chance of survival, while Third Class passengers and males were least likely to survive. The majority embarked from Southampton, and many Third Class passengers traveled alone.\n",
    "\n",
    "The dataset is now cleaned, redundant columns are removed, missing values are handled, and meaningful insights are supported by both statistical summaries and visualizations.\n"
   ]
  }
 ],
 "metadata": {
  "kernelspec": {
   "display_name": "python_ml",
   "language": "python",
   "name": "python3"
  },
  "language_info": {
   "codemirror_mode": {
    "name": "ipython",
    "version": 3
   },
   "file_extension": ".py",
   "mimetype": "text/x-python",
   "name": "python",
   "nbconvert_exporter": "python",
   "pygments_lexer": "ipython3",
   "version": "3.11.11"
  }
 },
 "nbformat": 4,
 "nbformat_minor": 5
}
